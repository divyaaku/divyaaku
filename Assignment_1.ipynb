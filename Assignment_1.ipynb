{
  "nbformat": 4,
  "nbformat_minor": 0,
  "metadata": {
    "colab": {
      "provenance": [],
      "authorship_tag": "ABX9TyNYUvtFsVROz4Vw2QQElUHd",
      "include_colab_link": true
    },
    "kernelspec": {
      "name": "python3",
      "display_name": "Python 3"
    },
    "language_info": {
      "name": "python"
    }
  },
  "cells": [
    {
      "cell_type": "markdown",
      "metadata": {
        "id": "view-in-github",
        "colab_type": "text"
      },
      "source": [
        "<a href=\"https://colab.research.google.com/github/divyaaku/divyaaku/blob/main/Assignment_1.ipynb\" target=\"_parent\"><img src=\"https://colab.research.google.com/assets/colab-badge.svg\" alt=\"Open In Colab\"/></a>"
      ]
    },
    {
      "cell_type": "markdown",
      "source": [],
      "metadata": {
        "id": "aefIgxGaU0Uu"
      }
    },
    {
      "cell_type": "markdown",
      "source": [
        "Assignment 1"
      ],
      "metadata": {
        "id": "Sl229d4bU7PZ"
      }
    },
    {
      "cell_type": "code",
      "execution_count": null,
      "metadata": {
        "colab": {
          "base_uri": "https://localhost:8080/"
        },
        "id": "3YJRki71UxR9",
        "outputId": "dc7646b4-c9db-4af3-a434-32d572131d00"
      },
      "outputs": [
        {
          "output_type": "stream",
          "name": "stdout",
          "text": [
            "Enter the number:16\n",
            "1\n",
            "\n",
            "2\n",
            "\n",
            "Fizz\n",
            "\n",
            "4\n",
            "\n",
            "Fuzz\n",
            "\n",
            "Fizz\n",
            "\n",
            "7\n",
            "\n",
            "8\n",
            "\n",
            "Fizz\n",
            "\n",
            "Fuzz\n",
            "\n",
            "11\n",
            "\n",
            "Fizz\n",
            "\n",
            "13\n",
            "\n",
            "14\n",
            "\n",
            "Fizz Buzz\n",
            "\n"
          ]
        }
      ],
      "source": [
        "number = int(input(\"Enter the number:\"))\n",
        "for i in range(1, number):\n",
        "    if i % 3 == 0 and i % 5 == 0:\n",
        "        print(\"Fizz Buzz\")\n",
        "    elif i % 3 == 0:\n",
        "        print(\"Fizz\")\n",
        "    elif i % 5 == 0:\n",
        "        print(\"Fuzz\")\n",
        "    else:\n",
        "        print(i)\n",
        "    print()"
      ]
    },
    {
      "cell_type": "markdown",
      "source": [
        "Assignment 2"
      ],
      "metadata": {
        "id": "8awYbIV4VkHB"
      }
    },
    {
      "cell_type": "code",
      "source": [
        "console=input(\"Enter the data:\")\n",
        "data = console.split('=',1)[1]\n",
        "bal=0\n",
        "for i in data.split(' '):\n",
        "    if i.split(':')[0] =='D':\n",
        "        bal += int(i.split(':')[1])\n",
        "    else:\n",
        "        bal -= int(i.split(':')[1])\n",
        "print(bal)"
      ],
      "metadata": {
        "colab": {
          "base_uri": "https://localhost:8080/"
        },
        "id": "1JuaOe-LU51L",
        "outputId": "1606cc8e-fd22-4fde-e7e5-739fb6705018"
      },
      "execution_count": null,
      "outputs": [
        {
          "output_type": "stream",
          "name": "stdout",
          "text": [
            "Enter the data:Log_message=D:100 W:10\n",
            "90\n"
          ]
        }
      ]
    },
    {
      "cell_type": "markdown",
      "source": [
        "Assignment 3"
      ],
      "metadata": {
        "id": "AnRJUOGwWAb-"
      }
    },
    {
      "cell_type": "code",
      "source": [
        "n = int(input(\"Enter the number of calls:\"))\n",
        "if n<101:\n",
        "    i = 200\n",
        "elif 100<n<151:\n",
        "    i = 200 + ((n - 100) * 0.60)\n",
        "elif 150<n<201:\n",
        "    i = 230 + ((n - 150) * 0.50)\n",
        "else:\n",
        "    i = 255 + ((n - 200) * 0.40)\n",
        "print(f'Net Amount for {n} calls : Rs.{i}')"
      ],
      "metadata": {
        "colab": {
          "base_uri": "https://localhost:8080/"
        },
        "id": "8yjy1YgoVq86",
        "outputId": "00364182-d61e-4a4c-c7b8-6790ae9f5a4c"
      },
      "execution_count": null,
      "outputs": [
        {
          "output_type": "stream",
          "name": "stdout",
          "text": [
            "Enter the number of calls:110\n",
            "Net Amount for 110 calls : Rs.206.0\n"
          ]
        }
      ]
    },
    {
      "cell_type": "code",
      "source": [
        "n = int(input(\"Enter the number:\"))\n",
        "for i in range (1,n):\n",
        "    if i%3 == 0 and i%5==0:\n",
        "      print('FIZZFUSS')\n",
        "    elif i%3 == 0:\n",
        "      print('FIZZ')\n",
        "    elif i%5 == 0:\n",
        "      print('FUZZ')\n",
        "    else:\n",
        "      print(i)\n"
      ],
      "metadata": {
        "colab": {
          "base_uri": "https://localhost:8080/"
        },
        "id": "8qpk6nfBdAex",
        "outputId": "04030dbd-1abe-48f4-cd94-056cad416a65"
      },
      "execution_count": null,
      "outputs": [
        {
          "output_type": "stream",
          "name": "stdout",
          "text": [
            "Enter the number:16\n",
            "1\n",
            "2\n",
            "FIZZ\n",
            "4\n",
            "FUZZ\n",
            "FIZZ\n",
            "7\n",
            "8\n",
            "FIZZ\n",
            "FUZZ\n",
            "11\n",
            "FIZZ\n",
            "13\n",
            "14\n",
            "FIZZFUSS\n"
          ]
        }
      ]
    },
    {
      "cell_type": "code",
      "source": [],
      "metadata": {
        "id": "-dXyuhwWWGkQ"
      },
      "execution_count": null,
      "outputs": []
    }
  ]
}