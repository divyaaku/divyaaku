{
  "nbformat": 4,
  "nbformat_minor": 0,
  "metadata": {
    "colab": {
      "provenance": [],
      "authorship_tag": "ABX9TyO45UbaJAtQG8onp5nLTZkA",
      "include_colab_link": true
    },
    "kernelspec": {
      "name": "python3",
      "display_name": "Python 3"
    },
    "language_info": {
      "name": "python"
    }
  },
  "cells": [
    {
      "cell_type": "markdown",
      "metadata": {
        "id": "view-in-github",
        "colab_type": "text"
      },
      "source": [
        "<a href=\"https://colab.research.google.com/github/divyaaku/divyaaku/blob/main/Assignment3.ipynb\" target=\"_parent\"><img src=\"https://colab.research.google.com/assets/colab-badge.svg\" alt=\"Open In Colab\"/></a>"
      ]
    },
    {
      "cell_type": "code",
      "execution_count": null,
      "metadata": {
        "colab": {
          "base_uri": "https://localhost:8080/"
        },
        "id": "-rHrKRlrvSK2",
        "outputId": "48ab109c-f2bb-4614-9b31-5dd09f61e4d7"
      },
      "outputs": [
        {
          "output_type": "stream",
          "name": "stdout",
          "text": [
            "20\n"
          ]
        }
      ],
      "source": [
        "def summation(n):\n",
        "  total=sum(n)\n",
        "  return total\n",
        "\n",
        "sample_list=[8,2,3,0,7]\n",
        "final=summation(sample_list)\n",
        "print(final)"
      ]
    },
    {
      "cell_type": "code",
      "source": [
        "def reverse(s):\n",
        "  rev_string=s[::-1]\n",
        "  return rev_string\n",
        "\n",
        "sample_string=input(\"Enter the String: \")\n",
        "final_string=reverse(sample_string)\n",
        "print(final_string)"
      ],
      "metadata": {
        "id": "PR3vdTqWvrof",
        "colab": {
          "base_uri": "https://localhost:8080/"
        },
        "outputId": "3dc8b3af-af10-4424-d7a2-9b7a7784acd9"
      },
      "execution_count": null,
      "outputs": [
        {
          "output_type": "stream",
          "name": "stdout",
          "text": [
            "Enter the String: 1234abcd\n",
            "dcba4321\n"
          ]
        }
      ]
    },
    {
      "cell_type": "code",
      "source": [
        "def case_count(s):\n",
        "  upper,lower=0,0\n",
        "  for i in s:\n",
        "    if i.islower():\n",
        "      lower+=1\n",
        "    elif i.isupper():\n",
        "      upper+=1\n",
        "  return lower,upper\n",
        "\n",
        "samp_string=input(\"Enter the string: \")\n",
        "lower_count,upper_count=case_count(samp_string)\n",
        "print(f\"No. of Upper case characters : {upper_count}\")\n",
        "print(f\"No. of Lower case Characters : {lower_count}\")"
      ],
      "metadata": {
        "colab": {
          "base_uri": "https://localhost:8080/"
        },
        "id": "Wx3Rn3sbpx50",
        "outputId": "4e8fd14d-79a7-4b7e-a1b9-0d72bd0900ae"
      },
      "execution_count": null,
      "outputs": [
        {
          "output_type": "stream",
          "name": "stdout",
          "text": [
            "Enter the string: The quick\n",
            "No. of Upper case characters : 1\n",
            "No. of Lower case Characters : 7\n"
          ]
        }
      ]
    },
    {
      "cell_type": "code",
      "source": [],
      "metadata": {
        "id": "1yYOdIFpvkHB"
      },
      "execution_count": null,
      "outputs": []
    }
  ]
}