{
  "nbformat": 4,
  "nbformat_minor": 0,
  "metadata": {
    "colab": {
      "provenance": []
    },
    "kernelspec": {
      "name": "python3",
      "display_name": "Python 3"
    },
    "language_info": {
      "name": "python"
    }
  },
  "cells": [
    {
      "cell_type": "code",
      "execution_count": null,
      "metadata": {
        "colab": {
          "base_uri": "https://localhost:8080/"
        },
        "id": "AIRLhdWNGTXn",
        "outputId": "69455323-56ce-4aa7-9d1b-8a4276de82a3"
      },
      "outputs": [
        {
          "output_type": "stream",
          "name": "stdout",
          "text": [
            "--2023-08-16 07:45:42--  https://archive.apache.org/dist/spark/spark-3.0.0/spark-3.0.0-bin-hadoop2.7.tgz\n",
            "Resolving archive.apache.org (archive.apache.org)... 65.108.204.189, 2a01:4f9:1a:a084::2\n",
            "Connecting to archive.apache.org (archive.apache.org)|65.108.204.189|:443... connected.\n",
            "HTTP request sent, awaiting response... 200 OK\n",
            "Length: 220272364 (210M) [application/x-gzip]\n",
            "Saving to: ‘spark-3.0.0-bin-hadoop2.7.tgz.1’\n",
            "\n",
            "   spark-3.0.0-bin-  42%[=======>            ]  88.95M  10.3MB/s    eta 17s    "
          ]
        }
      ],
      "source": [
        "#install Apache Spark 3.0.1 with Hadoop 2.7 from here.\n",
        "!wget https://archive.apache.org/dist/spark/spark-3.0.0/spark-3.0.0-bin-hadoop2.7.tgz\n",
        "\n",
        "# Now, we just need to unzip that folder.\n",
        "!tar -xvzf spark-3.0.0-bin-hadoop2.7.tgz\n",
        "!pip install findspark\n",
        "\n",
        "\n",
        "import os\n",
        "os.environ[\"SPARK_HOME\"] = \"/content/spark-3.0.0-bin-hadoop2.7\"\n",
        "import findspark\n",
        "findspark.init()"
      ]
    },
    {
      "cell_type": "code",
      "source": [
        "from pyspark.sql import SparkSession\n",
        "from pyspark.sql import functions as F\n",
        "spark=SparkSession.builder.master(\"local\").appName(\"Spark-Assignment\").getOrCreate()\n",
        "sc=spark.sparkContext"
      ],
      "metadata": {
        "id": "bSNhziDoGtTw"
      },
      "execution_count": null,
      "outputs": []
    },
    {
      "cell_type": "markdown",
      "source": [
        "Problem Statement 1:"
      ],
      "metadata": {
        "id": "I3LkGWHxHciX"
      }
    },
    {
      "cell_type": "code",
      "source": [
        "user_df=spark.read.json(path=\"user_03.json\")\n",
        "user_df.show(truncate=False)"
      ],
      "metadata": {
        "id": "1VOGtyjyLISP"
      },
      "execution_count": null,
      "outputs": []
    },
    {
      "cell_type": "code",
      "source": [
        "user_df.printSchema()"
      ],
      "metadata": {
        "id": "c_tj8GK3OOb6"
      },
      "execution_count": null,
      "outputs": []
    },
    {
      "cell_type": "code",
      "source": [
        "user_df.withColumn(\"OfficeNumber\",F.expr(\"filter(phoneNumbers, x->x.type='office')[0]\")).show(10,False)"
      ],
      "metadata": {
        "id": "qhAJrI34Nztb"
      },
      "execution_count": null,
      "outputs": []
    },
    {
      "cell_type": "code",
      "source": [],
      "metadata": {
        "id": "-Ko1J4W6O_Ro"
      },
      "execution_count": null,
      "outputs": []
    }
  ]
}