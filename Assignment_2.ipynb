{
  "nbformat": 4,
  "nbformat_minor": 0,
  "metadata": {
    "colab": {
      "provenance": [],
      "authorship_tag": "ABX9TyOlu4yv5d4HGSrn7jnVf8se",
      "include_colab_link": true
    },
    "kernelspec": {
      "name": "python3",
      "display_name": "Python 3"
    },
    "language_info": {
      "name": "python"
    }
  },
  "cells": [
    {
      "cell_type": "markdown",
      "metadata": {
        "id": "view-in-github",
        "colab_type": "text"
      },
      "source": [
        "<a href=\"https://colab.research.google.com/github/divyaaku/divyaaku/blob/main/Assignment_2.ipynb\" target=\"_parent\"><img src=\"https://colab.research.google.com/assets/colab-badge.svg\" alt=\"Open In Colab\"/></a>"
      ]
    },
    {
      "cell_type": "markdown",
      "source": [
        "#Assignment 1"
      ],
      "metadata": {
        "id": "brX2-016qiZj"
      }
    },
    {
      "cell_type": "code",
      "source": [
        "filenames=['view.jpg','bear.jpg','ball.png']\n",
        "filenames.insert(0,'phone.jpg')\n",
        "filenames.pop()\n",
        "print(filenames)"
      ],
      "metadata": {
        "colab": {
          "base_uri": "https://localhost:8080/"
        },
        "id": "TlNd8P-ViLpK",
        "outputId": "8e15b854-2062-4f32-e3ab-2efdb2d79289"
      },
      "execution_count": null,
      "outputs": [
        {
          "output_type": "stream",
          "name": "stdout",
          "text": [
            "['phone.jpg', 'view.jpg', 'bear.jpg']\n"
          ]
        }
      ]
    },
    {
      "cell_type": "code",
      "execution_count": null,
      "metadata": {
        "colab": {
          "base_uri": "https://localhost:8080/"
        },
        "id": "8Lb2UdtPhulE",
        "outputId": "036f47f7-3fd9-494e-9377-79157b79fd4b"
      },
      "outputs": [
        {
          "output_type": "stream",
          "name": "stdout",
          "text": [
            "10\n",
            "1\n",
            "6\n"
          ]
        }
      ],
      "source": [
        "L1=[1,2,3,4,5,6,7,8,9,10]\n",
        "maximum=L1[0]\n",
        "minimum=L1[0]\n",
        "avg=0\n",
        "for i in L1:\n",
        "  if i > maximum:\n",
        "    maximum=i\n",
        "print(maximum)\n",
        "for j in L1:\n",
        "  if j<minimum:\n",
        "    minimum=i\n",
        "print(minimum)\n",
        "leng=len(L1)\n",
        "avg=round(sum(L1)/leng)\n",
        "print(avg)"
      ]
    },
    {
      "cell_type": "markdown",
      "source": [
        "#Assignment 2"
      ],
      "metadata": {
        "id": "pU8fapcUqe46"
      }
    },
    {
      "cell_type": "code",
      "source": [
        "L1=[1,1,1,2,2,3,3,4,4,5]\n",
        "L2=[]\n",
        "for i in L1:\n",
        "  if i not in L2:\n",
        "    L2.append(i)\n",
        "print(L2)"
      ],
      "metadata": {
        "colab": {
          "base_uri": "https://localhost:8080/"
        },
        "id": "Fejcb9F2io3p",
        "outputId": "dc5742d3-5044-4148-b26c-f9d60065a65c"
      },
      "execution_count": null,
      "outputs": [
        {
          "output_type": "stream",
          "name": "stdout",
          "text": [
            "[1, 2, 3, 4, 5]\n"
          ]
        }
      ]
    },
    {
      "cell_type": "code",
      "source": [
        "L=[1,2,3,4,[7,5]]\n",
        "L1=[]\n",
        "numb=int(input(\"Enter the Number:\"))\n",
        "for num in L:\n",
        "  if type(num) is list:\n",
        "    for j in num:\n",
        "      L1.append(j)\n",
        "  # else:\n",
        "  #   L1.append(num)\n",
        "for number in L1:\n",
        "  if number==numb:\n",
        "    print(\"True\")"
      ],
      "metadata": {
        "colab": {
          "base_uri": "https://localhost:8080/"
        },
        "id": "KGFhElv9F32k",
        "outputId": "54ca3a90-d28b-489f-b442-d283a73dc7e9"
      },
      "execution_count": null,
      "outputs": [
        {
          "name": "stdout",
          "output_type": "stream",
          "text": [
            "Enter the Number:4\n"
          ]
        }
      ]
    },
    {
      "cell_type": "markdown",
      "source": [
        "#Assignment 3"
      ],
      "metadata": {
        "id": "8km2Ffj0on5E"
      }
    },
    {
      "cell_type": "code",
      "source": [
        "new_list=[]\n",
        "nested=[[1,-1,2],[0,-5,3,5,-2],[1,2,1,0,-2,-3]]\n",
        "for l in nested:\n",
        "  for i in l:\n",
        "    if i>0:\n",
        "      new_list.append(i)\n",
        "# print(nested)\n",
        "print(new_list)"
      ],
      "metadata": {
        "colab": {
          "base_uri": "https://localhost:8080/"
        },
        "id": "_mLnp9mdny_6",
        "outputId": "e3b001f8-8d28-48cd-e737-c1ead204f9f4"
      },
      "execution_count": null,
      "outputs": [
        {
          "output_type": "stream",
          "name": "stdout",
          "text": [
            "[1, 2, 3, 5, 1, 2, 1]\n"
          ]
        }
      ]
    },
    {
      "cell_type": "code",
      "source": [
        "L=[[1,2,3],[4,5,6,3],[-1,-2,-10,5,8]]\n",
        "fin=0\n",
        "\n",
        "for i in L:\n",
        "  leng=len(i)\n",
        "  s=0\n",
        "  count=0\n",
        "  for j in i:\n",
        "    s+=j\n",
        "  avg=s/leng\n",
        "  fin=fin+avg\n",
        "  count+=1\n",
        "print(fin/count)"
      ],
      "metadata": {
        "colab": {
          "base_uri": "https://localhost:8080/"
        },
        "id": "eIZYjniznzQx",
        "outputId": "beb74101-9e76-4543-f01c-e6813df1a7af"
      },
      "execution_count": null,
      "outputs": [
        {
          "output_type": "stream",
          "name": "stdout",
          "text": [
            "6.5\n"
          ]
        }
      ]
    }
  ]
}